{
 "cells": [
  {
   "cell_type": "markdown",
   "metadata": {},
   "source": [
    "# Community detection on reddit"
   ]
  },
  {
   "cell_type": "code",
   "execution_count": 2,
   "metadata": {
    "ExecuteTime": {
     "end_time": "2017-12-07T12:52:00.965105Z",
     "start_time": "2017-12-07T12:52:00.959183Z"
    },
    "collapsed": true
   },
   "outputs": [],
   "source": [
    "import louvain\n",
    "import igraph as ig\n",
    "import networkx as nx\n",
    "import community # python louvain\n",
    "import pandas as pd\n",
    "import numpy as np\n",
    "import matplotlib.pyplot as plt\n",
    "import glob\n",
    "import pickle\n",
    "% matplotlib inline"
   ]
  },
  {
   "cell_type": "markdown",
   "metadata": {},
   "source": [
    "# Step 1: Load data"
   ]
  },
  {
   "cell_type": "code",
   "execution_count": 3,
   "metadata": {
    "ExecuteTime": {
     "end_time": "2017-12-07T12:52:05.893525Z",
     "start_time": "2017-12-07T12:52:03.352532Z"
    },
    "collapsed": true
   },
   "outputs": [],
   "source": [
    "path = \"/Users/anders1991/Desktop/reddit/edges.txt\"\n",
    "with open(path) as f:\n",
    "    result = f.read()"
   ]
  },
  {
   "cell_type": "code",
   "execution_count": 4,
   "metadata": {
    "ExecuteTime": {
     "end_time": "2017-12-07T12:52:06.346691Z",
     "start_time": "2017-12-07T12:52:05.895288Z"
    },
    "collapsed": true
   },
   "outputs": [],
   "source": [
    "with open(\"/Users/anders1991/Desktop/reddit/SubDict.pickle\", 'rb') as f:\n",
    "    subdict = pickle.load(f)"
   ]
  },
  {
   "cell_type": "markdown",
   "metadata": {},
   "source": [
    "# Step 2: Inspect weight distribution"
   ]
  },
  {
   "cell_type": "code",
   "execution_count": 5,
   "metadata": {
    "ExecuteTime": {
     "end_time": "2017-12-07T12:53:26.167085Z",
     "start_time": "2017-12-07T12:52:06.348634Z"
    },
    "collapsed": true
   },
   "outputs": [],
   "source": [
    "df = pd.read_csv(path, delim_whitespace=True, header=None)"
   ]
  },
  {
   "cell_type": "code",
   "execution_count": 6,
   "metadata": {
    "ExecuteTime": {
     "end_time": "2017-12-07T12:53:26.209478Z",
     "start_time": "2017-12-07T12:53:26.170071Z"
    },
    "scrolled": false
   },
   "outputs": [
    {
     "data": {
      "text/html": [
       "<div>\n",
       "<style>\n",
       "    .dataframe thead tr:only-child th {\n",
       "        text-align: right;\n",
       "    }\n",
       "\n",
       "    .dataframe thead th {\n",
       "        text-align: left;\n",
       "    }\n",
       "\n",
       "    .dataframe tbody tr th {\n",
       "        vertical-align: top;\n",
       "    }\n",
       "</style>\n",
       "<table border=\"1\" class=\"dataframe\">\n",
       "  <thead>\n",
       "    <tr style=\"text-align: right;\">\n",
       "      <th></th>\n",
       "      <th>0</th>\n",
       "      <th>1</th>\n",
       "      <th>2</th>\n",
       "    </tr>\n",
       "  </thead>\n",
       "  <tbody>\n",
       "    <tr>\n",
       "      <th>0</th>\n",
       "      <td>1445</td>\n",
       "      <td>11588</td>\n",
       "      <td>1</td>\n",
       "    </tr>\n",
       "    <tr>\n",
       "      <th>1</th>\n",
       "      <td>1445</td>\n",
       "      <td>3396</td>\n",
       "      <td>2</td>\n",
       "    </tr>\n",
       "    <tr>\n",
       "      <th>2</th>\n",
       "      <td>1445</td>\n",
       "      <td>3397</td>\n",
       "      <td>3</td>\n",
       "    </tr>\n",
       "    <tr>\n",
       "      <th>3</th>\n",
       "      <td>1445</td>\n",
       "      <td>11590</td>\n",
       "      <td>4</td>\n",
       "    </tr>\n",
       "    <tr>\n",
       "      <th>4</th>\n",
       "      <td>1445</td>\n",
       "      <td>44359</td>\n",
       "      <td>2</td>\n",
       "    </tr>\n",
       "  </tbody>\n",
       "</table>\n",
       "</div>"
      ],
      "text/plain": [
       "      0      1  2\n",
       "0  1445  11588  1\n",
       "1  1445   3396  2\n",
       "2  1445   3397  3\n",
       "3  1445  11590  4\n",
       "4  1445  44359  2"
      ]
     },
     "execution_count": 6,
     "metadata": {},
     "output_type": "execute_result"
    }
   ],
   "source": [
    "df.head()"
   ]
  },
  {
   "cell_type": "code",
   "execution_count": 7,
   "metadata": {
    "ExecuteTime": {
     "end_time": "2017-12-07T12:53:29.420652Z",
     "start_time": "2017-12-07T12:53:26.211676Z"
    }
   },
   "outputs": [
    {
     "data": {
      "text/plain": [
       "1    149968554\n",
       "2     34507054\n",
       "3     14862794\n",
       "4      8079152\n",
       "5      4883826\n",
       "Name: 2, dtype: int64"
      ]
     },
     "execution_count": 7,
     "metadata": {},
     "output_type": "execute_result"
    }
   ],
   "source": [
    "freqs = pd.value_counts(df[2])\n",
    "freqs.head()"
   ]
  },
  {
   "cell_type": "code",
   "execution_count": 8,
   "metadata": {
    "ExecuteTime": {
     "end_time": "2017-12-07T12:53:46.771637Z",
     "start_time": "2017-12-07T12:53:29.423199Z"
    }
   },
   "outputs": [
    {
     "data": {
      "image/png": "[encoded data removed]",
      "text/plain": [
       "<matplotlib.figure.Figure at 0x118b76290>"
      ]
     },
     "metadata": {},
     "output_type": "display_data"
    }
   ],
   "source": [
    "path = \"/Users/anders1991/Desktop/reddit/plots/\"\n",
    "\n",
    "plt.figure(figsize=(12,8))\n",
    "plt.bar(np.log(freqs.index), freqs, width=0.7)\n",
    "plt.xlabel(\"ln(weight)\")\n",
    "plt.ylabel(\"frequency\")\n",
    "plt.savefig(path + \"edgeweight_bar_annotated_unlogged.png\", bbox_inches='tight')\n",
    "plt.show()"
   ]
  },
  {
   "cell_type": "code",
   "execution_count": 9,
   "metadata": {
    "ExecuteTime": {
     "end_time": "2017-12-07T12:54:03.509434Z",
     "start_time": "2017-12-07T12:53:46.773425Z"
    }
   },
   "outputs": [
    {
     "data": {
      "image/png": "[encoded data removed]",
      "text/plain": [
       "<matplotlib.figure.Figure at 0x1168f1890>"
      ]
     },
     "metadata": {},
     "output_type": "display_data"
    }
   ],
   "source": [
    "path = \"/Users/anders1991/Desktop/reddit/plots/\"\n",
    "\n",
    "plt.figure(figsize=(12,8))\n",
    "plt.bar(np.log(freqs.index), np.log(freqs), width=0.7)\n",
    "plt.xlabel(\"ln(weight)\")\n",
    "plt.ylabel(\"ln(frequency)\")\n",
    "plt.savefig(path + \"edgeweight_bar_annotated.png\", bbox_inches='tight')\n",
    "plt.show()"
   ]
  },
  {
   "cell_type": "markdown",
   "metadata": {},
   "source": [
    "Mmm, power laws..."
   ]
  },
  {
   "cell_type": "markdown",
   "metadata": {},
   "source": [
    "# Step 3: Save filtered edge lists to file"
   ]
  },
  {
   "cell_type": "code",
   "execution_count": 10,
   "metadata": {
    "ExecuteTime": {
     "end_time": "2017-12-07T12:54:03.526185Z",
     "start_time": "2017-12-07T12:54:03.512798Z"
    },
    "collapsed": true
   },
   "outputs": [],
   "source": [
    "def filesaver(threshold):\n",
    "    # threshold dataset by weight and convert to labels\n",
    "    source = df.loc[np.log(df[2]) >= threshold][0].map(subdict)\n",
    "    target = df.loc[np.log(df[2]) >= threshold][1].map(subdict)\n",
    "    \n",
    "    # merge to dataframe\n",
    "    data = pd.merge(source.to_frame(), target.to_frame(), \n",
    "                    left_index=True, right_index=True)\n",
    "    data.columns = [\"Source\", \"Target\"]\n",
    "    \n",
    "    # write thresholded dataset to file\n",
    "    data.to_csv(\"edges_exp\" + str(threshold) + \".csv\", index=False)\n",
    "    \n",
    "    print(\"Threshold:\", threshold)\n",
    "    print(\"Nodes count:\", len(set(data[\"Source\"]).union(set(data[\"Target\"]))))\n",
    "    print(\"Edge count:\", data.shape[0])"
   ]
  },
  {
   "cell_type": "markdown",
   "metadata": {},
   "source": [
    "Save edgelist for all edges ($w > \\exp(x)$)"
   ]
  },
  {
   "cell_type": "code",
   "execution_count": 14,
   "metadata": {
    "ExecuteTime": {
     "end_time": "2017-12-07T00:10:51.831492Z",
     "start_time": "2017-12-06T23:58:06.519133Z"
    }
   },
   "outputs": [
    {
     "name": "stdout",
     "output_type": "stream",
     "text": [
      "('Threshold:', 0)\n",
      "('Nodes count:', 70888)\n",
      "('Edge count:', 225777872)\n",
      "('Threshold:', 1)\n",
      "('Nodes count:', 34256)\n",
      "('Edge count:', 41302264)\n",
      "('Threshold:', 2)\n",
      "('Nodes count:', 19840)\n",
      "('Edge count:', 8172832)\n",
      "('Threshold:', 3)\n",
      "('Nodes count:', 12095)\n",
      "('Edge count:', 1719890)\n",
      "('Threshold:', 4)\n",
      "('Nodes count:', 7149)\n",
      "('Edge count:', 526328)\n",
      "('Threshold:', 5)\n",
      "('Nodes count:', 3852)\n",
      "('Edge count:', 176142)\n",
      "('Threshold:', 6)\n",
      "('Nodes count:', 1839)\n",
      "('Edge count:', 56104)\n",
      "('Threshold:', 7)\n",
      "('Nodes count:', 778)\n",
      "('Edge count:', 15658)\n",
      "('Threshold:', 8)\n",
      "('Nodes count:', 306)\n",
      "('Edge count:', 3834)\n",
      "('Threshold:', 9)\n",
      "('Nodes count:', 98)\n",
      "('Edge count:', 832)\n",
      "('Threshold:', 10)\n",
      "('Nodes count:', 28)\n",
      "('Edge count:', 184)\n"
     ]
    }
   ],
   "source": [
    "filesaver(0)\n",
    "filesaver(1)\n",
    "filesaver(2)\n",
    "filesaver(3)\n",
    "filesaver(4)\n",
    "filesaver(5)\n",
    "filesaver(6)\n",
    "filesaver(7)\n",
    "filesaver(8)\n",
    "filesaver(9)\n",
    "filesaver(10)"
   ]
  },
  {
   "cell_type": "markdown",
   "metadata": {},
   "source": [
    "# Step 4: Create graph"
   ]
  },
  {
   "cell_type": "code",
   "execution_count": 13,
   "metadata": {
    "ExecuteTime": {
     "end_time": "2017-12-07T12:54:03.560058Z",
     "start_time": "2017-12-07T12:54:03.550501Z"
    },
    "scrolled": false
   },
   "outputs": [
    {
     "data": {
      "text/plain": [
       "['edges_exp0.csv',\n",
       " 'edges_exp1.csv',\n",
       " 'edges_exp10.csv',\n",
       " 'edges_exp2.csv',\n",
       " 'edges_exp3.csv',\n",
       " 'edges_exp4.csv',\n",
       " 'edges_exp5.csv',\n",
       " 'edges_exp6.csv',\n",
       " 'edges_exp7.csv',\n",
       " 'edges_exp8.csv',\n",
       " 'edges_exp9.csv']"
      ]
     },
     "execution_count": 13,
     "metadata": {},
     "output_type": "execute_result"
    }
   ],
   "source": [
    "files = glob.glob(\"./edges_*.csv\")\n",
    "edgelists = [f.split('/')[-1] for f in files]\n",
    "edgelists = sorted(edgelists, reverse=False)\n",
    "edgelists"
   ]
  },
  {
   "cell_type": "code",
   "execution_count": 14,
   "metadata": {
    "ExecuteTime": {
     "end_time": "2017-12-07T12:54:07.154105Z",
     "start_time": "2017-12-07T12:54:07.150926Z"
    },
    "collapsed": true
   },
   "outputs": [],
   "source": [
    "def loadGraph(name):\n",
    "    G = nx.read_edgelist(name, delimiter=\",\")\n",
    "    return G"
   ]
  },
  {
   "cell_type": "markdown",
   "metadata": {},
   "source": [
    "# Step 5: Apply Louvain to graph with weights > threshold"
   ]
  },
  {
   "cell_type": "code",
   "execution_count": 15,
   "metadata": {
    "ExecuteTime": {
     "end_time": "2017-12-07T12:54:12.891296Z",
     "start_time": "2017-12-07T12:54:12.887084Z"
    },
    "collapsed": true,
    "scrolled": false
   },
   "outputs": [],
   "source": [
    "def comms(name):\n",
    "    G = loadGraph(name)\n",
    "    partition = community.best_partition(G)\n",
    "    return partition"
   ]
  },
  {
   "cell_type": "code",
   "execution_count": 75,
   "metadata": {
    "ExecuteTime": {
     "end_time": "2017-12-07T14:52:48.543325Z",
     "start_time": "2017-12-07T14:36:21.366958Z"
    },
    "scrolled": true
   },
   "outputs": [
    {
     "name": "stdout",
     "output_type": "stream",
     "text": [
      "('Completed:', 'edges_exp10.csv')\n",
      "('Completed:', 'edges_exp2.csv')\n",
      "('Completed:', 'edges_exp3.csv')\n",
      "('Completed:', 'edges_exp4.csv')\n",
      "('Completed:', 'edges_exp5.csv')\n",
      "('Completed:', 'edges_exp6.csv')\n",
      "('Completed:', 'edges_exp7.csv')\n",
      "('Completed:', 'edges_exp8.csv')\n",
      "('Completed:', 'edges_exp9.csv')\n"
     ]
    }
   ],
   "source": [
    "commDict = {}\n",
    "\n",
    "# only calc for thresholds >= exp2\n",
    "for edges in edgelists[2:]:\n",
    "    name = edges.split('_')[-1].split('.')[0]\n",
    "    comm = comms(edges)\n",
    "    commDict[name] = comm\n",
    "    print(\"Completed:\", edges)"
   ]
  },
  {
   "cell_type": "code",
   "execution_count": 76,
   "metadata": {
    "ExecuteTime": {
     "end_time": "2017-12-07T14:52:54.329777Z",
     "start_time": "2017-12-07T14:52:54.323410Z"
    },
    "scrolled": true
   },
   "outputs": [
    {
     "name": "stdout",
     "output_type": "stream",
     "text": [
      "('exp9', 4)\n",
      "('exp8', 5)\n",
      "('exp3', 20)\n",
      "('exp2', 44)\n",
      "('exp7', 8)\n",
      "('exp6', 13)\n",
      "('exp5', 35)\n",
      "('exp4', 39)\n",
      "('exp10', 3)\n"
     ]
    }
   ],
   "source": [
    "for name, groups in commDict.iteritems():\n",
    "    print(name, len(set(groups.values())))"
   ]
  },
  {
   "cell_type": "code",
   "execution_count": 77,
   "metadata": {
    "ExecuteTime": {
     "end_time": "2017-12-07T14:53:06.027050Z",
     "start_time": "2017-12-07T14:53:01.180656Z"
    },
    "scrolled": false
   },
   "outputs": [
    {
     "data": {
      "image/png": "[encoded data removed]",
      "text/plain": [
       "<matplotlib.figure.Figure at 0x1c95de210>"
      ]
     },
     "metadata": {},
     "output_type": "display_data"
    },
    {
     "data": {
      "image/png": "[encoded data removed]",
      "text/plain": [
       "<matplotlib.figure.Figure at 0x1169bd510>"
      ]
     },
     "metadata": {},
     "output_type": "display_data"
    },
    {
     "data": {
      "image/png": "[encoded data removed]",
      "text/plain": [
       "<matplotlib.figure.Figure at 0x116897e10>"
      ]
     },
     "metadata": {},
     "output_type": "display_data"
    },
    {
     "data": {
      "image/png": "[encoded data removed]",
      "text/plain": [
       "<matplotlib.figure.Figure at 0x1dfe75650>"
      ]
     },
     "metadata": {},
     "output_type": "display_data"
    },
    {
     "data": {
      "image/png": "[encoded data removed]",
      "text/plain": [
       "<matplotlib.figure.Figure at 0x1c775ee10>"
      ]
     },
     "metadata": {},
     "output_type": "display_data"
    },
    {
     "data": {
      "image/png": "[encoded data removed]",
      "text/plain": [
       "<matplotlib.figure.Figure at 0x1ebbfd1d0>"
      ]
     },
     "metadata": {},
     "output_type": "display_data"
    },
    {
     "data": {
      "image/png": "[encoded data removed]",
      "text/plain": [
       "<matplotlib.figure.Figure at 0x31814d810>"
      ]
     },
     "metadata": {},
     "output_type": "display_data"
    },
    {
     "data": {
      "image/png": "[encoded data removed]",
      "text/plain": [
       "<matplotlib.figure.Figure at 0x1dfabbd10>"
      ]
     },
     "metadata": {},
     "output_type": "display_data"
    },
    {
     "data": {
      "image/png": "[encoded data removed]",
      "text/plain": [
       "<matplotlib.figure.Figure at 0x11696dd50>"
      ]
     },
     "metadata": {},
     "output_type": "display_data"
    }
   ],
   "source": [
    "from collections import Counter\n",
    "\n",
    "for name, parts in commDict.iteritems():\n",
    "    subs = len(set(commDict[name].keys()))\n",
    "    groups = Counter(parts.values()).values()\n",
    "    communities = len(set(parts.values()))\n",
    "    \n",
    "    plt.figure(figsize=(10,5))\n",
    "    plt.bar(range(communities), groups)\n",
    "    plt.title(str(communities) + \" metacommunities, \" + str(subs) + \" subreddits\" \" (threshold = \" + name + \")\")\n",
    "    plt.xlabel(\"Metacommunities\")\n",
    "    plt.ylabel(\"Number of subreddits in metacommunity\")\n",
    "    path = \"/Users/anders1991/Desktop/reddit/plots/\"\n",
    "    plt.savefig(path + name + \".png\", bbox_inches='tight')\n",
    "    plt.show()"
   ]
  },
  {
   "cell_type": "markdown",
   "metadata": {},
   "source": [
    "# Step 6: Extract communities to file"
   ]
  },
  {
   "cell_type": "code",
   "execution_count": 78,
   "metadata": {
    "ExecuteTime": {
     "end_time": "2017-12-07T14:53:43.958784Z",
     "start_time": "2017-12-07T14:53:43.839551Z"
    },
    "collapsed": true
   },
   "outputs": [],
   "source": [
    "for name in commDict.keys():\n",
    "    groups = pd.DataFrame.from_dict(commDict[name], 'index')\n",
    "    groups[\"Id\"] = groups.index\n",
    "    groups.columns = [\"group\", \"Id\"]\n",
    "    groups = groups[[\"Id\", \"group\"]]\n",
    "    groups.to_csv(\"./\" + name + \"_groups.csv\", index=False)"
   ]
  },
  {
   "cell_type": "code",
   "execution_count": 79,
   "metadata": {
    "ExecuteTime": {
     "end_time": "2017-12-07T14:53:44.129688Z",
     "start_time": "2017-12-07T14:53:44.120252Z"
    },
    "collapsed": true
   },
   "outputs": [],
   "source": [
    "def commToDF(name):\n",
    "    # get community modules\n",
    "    communities = commDict[name]\n",
    "    \n",
    "    groups = pd.DataFrame.from_dict(communities, 'index')\n",
    "    groups[\"subreddit\"] = groups.index\n",
    "    groups.columns = [\"group\", \"subreddit\"]\n",
    "    groups = groups[[\"subreddit\", \"group\"]]\n",
    "    groups.reset_index(inplace=True, drop=True)\n",
    "    return groups\n",
    "\n",
    "def commExport(name):\n",
    "    groups = commToDF(name)\n",
    "    groups.to_csv(\"./groups_\" + name + \".csv\", index=False)"
   ]
  },
  {
   "cell_type": "code",
   "execution_count": 54,
   "metadata": {
    "ExecuteTime": {
     "end_time": "2017-12-07T13:32:53.180930Z",
     "start_time": "2017-12-07T13:32:53.139031Z"
    },
    "collapsed": true
   },
   "outputs": [],
   "source": [
    "for name in commDict.keys():\n",
    "    commExport(name)"
   ]
  },
  {
   "cell_type": "markdown",
   "metadata": {},
   "source": [
    "----"
   ]
  },
  {
   "cell_type": "markdown",
   "metadata": {},
   "source": [
    "# Calculate modularity"
   ]
  },
  {
   "cell_type": "code",
   "execution_count": 80,
   "metadata": {
    "ExecuteTime": {
     "end_time": "2017-12-07T14:53:48.698604Z",
     "start_time": "2017-12-07T14:53:48.684218Z"
    },
    "collapsed": true
   },
   "outputs": [],
   "source": [
    "# find total degree of nodes in the group\n",
    "def k_c(group):\n",
    "    k_c = 0\n",
    "    for phil in group:\n",
    "        k_c += G.degree()[phil]\n",
    "    return k_c\n",
    "\n",
    "# find number of edges where both nodes are in group\n",
    "def L_c(group):\n",
    "    L_c = 0\n",
    "    for edge in G.edges():\n",
    "        nodes = set(edge)\n",
    "        if group.issuperset(nodes):\n",
    "            L_c += 1\n",
    "    return L_c\n",
    "\n",
    "# compute modularity using equation 9.12\n",
    "def M(graph, groups):\n",
    "    modularity = 0\n",
    "    L = float(len(graph.edges()))\n",
    "    for group in groups:\n",
    "        Lc = L_c(group)\n",
    "        kc = k_c(group)\n",
    "        Mc = Lc/L - (kc/(2.0*L))**2.0\n",
    "        modularity += Mc\n",
    "    return modularity"
   ]
  },
  {
   "cell_type": "code",
   "execution_count": 105,
   "metadata": {
    "ExecuteTime": {
     "end_time": "2017-12-07T16:35:01.430854Z",
     "start_time": "2017-12-07T15:08:14.927563Z"
    },
    "scrolled": true
   },
   "outputs": [
    {
     "name": "stdout",
     "output_type": "stream",
     "text": [
      "Modularity (exp9): 0.225360576923\n",
      "Modularity (exp8): 0.210930996827\n",
      "Modularity (exp3): 0.18642456341\n",
      "Modularity (exp2): 0.133217648569\n",
      "Modularity (exp7): 0.24777041077\n",
      "Modularity (exp6): 0.253041503721\n",
      "Modularity (exp5): 0.240854865556\n",
      "Modularity (exp4): 0.220275067971\n",
      "Modularity (exp10): 0.195120510397\n"
     ]
    }
   ],
   "source": [
    "modularities = dict()\n",
    "\n",
    "for name in commDict.keys():\n",
    "    louvain = [set() for i in range(max(commDict[name].values())+1)]\n",
    "    for idx, group in commDict[name].iteritems():\n",
    "        if idx != \"Source\" and idx != \"Target\":\n",
    "            louvain[group].add(idx)\n",
    "    \n",
    "    G = nx.read_edgelist(\"edges_\"+name+\".csv\", delimiter=\",\")\n",
    "    G.remove_nodes_from([\"Source\", \"Target\"])\n",
    "    mod = M(G, louvain)\n",
    "    \n",
    "    modularities[name] = mod\n",
    "    print \"Modularity (\" + str(name) + \"):\", mod"
   ]
  },
  {
   "cell_type": "code",
   "execution_count": 117,
   "metadata": {
    "ExecuteTime": {
     "end_time": "2017-12-07T17:51:27.745286Z",
     "start_time": "2017-12-07T17:51:27.327245Z"
    }
   },
   "outputs": [
    {
     "data": {
      "image/png": "[encoded data removed]",
      "text/plain": [
       "<matplotlib.figure.Figure at 0x118b12990>"
      ]
     },
     "metadata": {},
     "output_type": "display_data"
    }
   ],
   "source": [
    "xvals = [i for i in range(2,11)]\n",
    "yvals = [modularities[\"exp\"+str(i)] for i in range(2,11)] \n",
    "\n",
    "plt.figure(figsize=(10,5))\n",
    "plt.bar(xvals, yvals)\n",
    "plt.xlabel(\"exponentiated subgraph thresholds\")\n",
    "plt.ylabel(\"modularity\")\n",
    "path = \"/Users/anders1991/Desktop/reddit/plots/\"\n",
    "plt.savefig(path + \"modularity_bar.png\", bbox_inches='tight')\n",
    "plt.show()"
   ]
  },
  {
   "cell_type": "markdown",
   "metadata": {},
   "source": [
    "----"
   ]
  },
  {
   "cell_type": "markdown",
   "metadata": {},
   "source": [
    "# Create joint metadata csv"
   ]
  },
  {
   "cell_type": "code",
   "execution_count": 69,
   "metadata": {
    "ExecuteTime": {
     "end_time": "2017-12-07T13:48:02.042236Z",
     "start_time": "2017-12-07T13:47:38.302027Z"
    },
    "scrolled": false
   },
   "outputs": [
    {
     "name": "stderr",
     "output_type": "stream",
     "text": [
      "/Users/anders1991/miniconda3/envs/py2/lib/python2.7/site-packages/ipykernel/__main__.py:5: RuntimeWarning: divide by zero encountered in log\n"
     ]
    },
    {
     "data": {
      "text/html": [
       "<div>\n",
       "<style>\n",
       "    .dataframe thead tr:only-child th {\n",
       "        text-align: right;\n",
       "    }\n",
       "\n",
       "    .dataframe thead th {\n",
       "        text-align: left;\n",
       "    }\n",
       "\n",
       "    .dataframe tbody tr th {\n",
       "        vertical-align: top;\n",
       "    }\n",
       "</style>\n",
       "<table border=\"1\" class=\"dataframe\">\n",
       "  <thead>\n",
       "    <tr style=\"text-align: right;\">\n",
       "      <th></th>\n",
       "      <th>subreddit</th>\n",
       "      <th>title</th>\n",
       "      <th>domain</th>\n",
       "      <th>num_comments</th>\n",
       "      <th>score</th>\n",
       "      <th>over_18</th>\n",
       "      <th>is_self</th>\n",
       "      <th>ln_score</th>\n",
       "    </tr>\n",
       "  </thead>\n",
       "  <tbody>\n",
       "    <tr>\n",
       "      <th>0</th>\n",
       "      <td>gaming</td>\n",
       "      <td>Gorging on Insect Jelly [RimWorld] - Credit So...</td>\n",
       "      <td>youtube.com</td>\n",
       "      <td>0</td>\n",
       "      <td>10</td>\n",
       "      <td>False</td>\n",
       "      <td>False</td>\n",
       "      <td>2.302585</td>\n",
       "    </tr>\n",
       "    <tr>\n",
       "      <th>1</th>\n",
       "      <td>ImagesOfGeorgia</td>\n",
       "      <td>Opening Night at GSU Stadium!</td>\n",
       "      <td>imgur.com</td>\n",
       "      <td>1</td>\n",
       "      <td>1</td>\n",
       "      <td>False</td>\n",
       "      <td>False</td>\n",
       "      <td>0.000000</td>\n",
       "    </tr>\n",
       "    <tr>\n",
       "      <th>2</th>\n",
       "      <td>type2diabetes</td>\n",
       "      <td>Associations of fats and carbohydrate intake w...</td>\n",
       "      <td>thelancet.com</td>\n",
       "      <td>0</td>\n",
       "      <td>4</td>\n",
       "      <td>False</td>\n",
       "      <td>False</td>\n",
       "      <td>1.386294</td>\n",
       "    </tr>\n",
       "    <tr>\n",
       "      <th>3</th>\n",
       "      <td>AskReddit</td>\n",
       "      <td>You just got paid, so what's the non-necessity...</td>\n",
       "      <td>self.AskReddit</td>\n",
       "      <td>7</td>\n",
       "      <td>1</td>\n",
       "      <td>False</td>\n",
       "      <td>True</td>\n",
       "      <td>0.000000</td>\n",
       "    </tr>\n",
       "    <tr>\n",
       "      <th>4</th>\n",
       "      <td>freefolk</td>\n",
       "      <td>Leaked photo from season 7 premiere</td>\n",
       "      <td>i.redd.it</td>\n",
       "      <td>2</td>\n",
       "      <td>9</td>\n",
       "      <td>False</td>\n",
       "      <td>False</td>\n",
       "      <td>2.197225</td>\n",
       "    </tr>\n",
       "  </tbody>\n",
       "</table>\n",
       "</div>"
      ],
      "text/plain": [
       "         subreddit                                              title  \\\n",
       "0           gaming  Gorging on Insect Jelly [RimWorld] - Credit So...   \n",
       "1  ImagesOfGeorgia                      Opening Night at GSU Stadium!   \n",
       "2    type2diabetes  Associations of fats and carbohydrate intake w...   \n",
       "3        AskReddit  You just got paid, so what's the non-necessity...   \n",
       "4         freefolk                Leaked photo from season 7 premiere   \n",
       "\n",
       "           domain  num_comments  score  over_18  is_self  ln_score  \n",
       "0     youtube.com             0     10    False    False  2.302585  \n",
       "1       imgur.com             1      1    False    False  0.000000  \n",
       "2   thelancet.com             0      4    False    False  1.386294  \n",
       "3  self.AskReddit             7      1    False     True  0.000000  \n",
       "4       i.redd.it             2      9    False    False  2.197225  "
      ]
     },
     "execution_count": 69,
     "metadata": {},
     "output_type": "execute_result"
    }
   ],
   "source": [
    "metadata = pd.read_csv(\"/Users/anders1991/Desktop/reddit/content/000000000000.csv\")\n",
    "metadata = metadata.append(pd.read_csv(\"/Users/anders1991/Desktop/reddit/content/000000000001.csv\"))\n",
    "metadata = metadata.append(pd.read_csv(\"/Users/anders1991/Desktop/reddit/content/000000000002.csv\"))\n",
    "metadata = metadata.reset_index(drop=True)\n",
    "metadata[\"ln_score\"] = np.log(metadata[\"score\"])\n",
    "metadata.loc[metadata[\"ln_score\"] < 0, \"ln_score\"] = 0 # fix ln(0) = -inf\n",
    "metadata.head()"
   ]
  },
  {
   "cell_type": "code",
   "execution_count": 122,
   "metadata": {
    "ExecuteTime": {
     "end_time": "2017-12-06T23:10:52.954036Z",
     "start_time": "2017-12-06T23:10:52.941303Z"
    },
    "scrolled": true
   },
   "outputs": [
    {
     "data": {
      "text/html": [
       "<div>\n",
       "<style>\n",
       "    .dataframe thead tr:only-child th {\n",
       "        text-align: right;\n",
       "    }\n",
       "\n",
       "    .dataframe thead th {\n",
       "        text-align: left;\n",
       "    }\n",
       "\n",
       "    .dataframe tbody tr th {\n",
       "        vertical-align: top;\n",
       "    }\n",
       "</style>\n",
       "<table border=\"1\" class=\"dataframe\">\n",
       "  <thead>\n",
       "    <tr style=\"text-align: right;\">\n",
       "      <th></th>\n",
       "      <th>subreddit</th>\n",
       "      <th>group</th>\n",
       "    </tr>\n",
       "  </thead>\n",
       "  <tbody>\n",
       "    <tr>\n",
       "      <th>0</th>\n",
       "      <td>danganronpa</td>\n",
       "      <td>0</td>\n",
       "    </tr>\n",
       "    <tr>\n",
       "      <th>1</th>\n",
       "      <td>raining</td>\n",
       "      <td>1</td>\n",
       "    </tr>\n",
       "    <tr>\n",
       "      <th>2</th>\n",
       "      <td>OOTP</td>\n",
       "      <td>2</td>\n",
       "    </tr>\n",
       "    <tr>\n",
       "      <th>3</th>\n",
       "      <td>yoyhammer</td>\n",
       "      <td>1</td>\n",
       "    </tr>\n",
       "    <tr>\n",
       "      <th>4</th>\n",
       "      <td>exmormon</td>\n",
       "      <td>3</td>\n",
       "    </tr>\n",
       "  </tbody>\n",
       "</table>\n",
       "</div>"
      ],
      "text/plain": [
       "     subreddit  group\n",
       "0  danganronpa      0\n",
       "1      raining      1\n",
       "2         OOTP      2\n",
       "3    yoyhammer      1\n",
       "4     exmormon      3"
      ]
     },
     "execution_count": 122,
     "metadata": {},
     "output_type": "execute_result"
    }
   ],
   "source": [
    "groups = commToDF(\"exp3\")\n",
    "groups.head()"
   ]
  },
  {
   "cell_type": "code",
   "execution_count": 123,
   "metadata": {
    "ExecuteTime": {
     "end_time": "2017-12-06T23:11:09.261781Z",
     "start_time": "2017-12-06T23:11:00.673221Z"
    }
   },
   "outputs": [
    {
     "data": {
      "text/html": [
       "<div>\n",
       "<style>\n",
       "    .dataframe thead tr:only-child th {\n",
       "        text-align: right;\n",
       "    }\n",
       "\n",
       "    .dataframe thead th {\n",
       "        text-align: left;\n",
       "    }\n",
       "\n",
       "    .dataframe tbody tr th {\n",
       "        vertical-align: top;\n",
       "    }\n",
       "</style>\n",
       "<table border=\"1\" class=\"dataframe\">\n",
       "  <thead>\n",
       "    <tr style=\"text-align: right;\">\n",
       "      <th></th>\n",
       "      <th>subreddit</th>\n",
       "      <th>title</th>\n",
       "      <th>domain</th>\n",
       "      <th>num_comments</th>\n",
       "      <th>score</th>\n",
       "      <th>over_18</th>\n",
       "      <th>is_self</th>\n",
       "      <th>ln_score</th>\n",
       "      <th>group</th>\n",
       "    </tr>\n",
       "  </thead>\n",
       "  <tbody>\n",
       "    <tr>\n",
       "      <th>0</th>\n",
       "      <td>gaming</td>\n",
       "      <td>Gorging on Insect Jelly [RimWorld] - Credit So...</td>\n",
       "      <td>youtube.com</td>\n",
       "      <td>0</td>\n",
       "      <td>10</td>\n",
       "      <td>False</td>\n",
       "      <td>False</td>\n",
       "      <td>2.302585</td>\n",
       "      <td>1</td>\n",
       "    </tr>\n",
       "    <tr>\n",
       "      <th>1</th>\n",
       "      <td>gaming</td>\n",
       "      <td>When you realize...</td>\n",
       "      <td>i.imgur.com</td>\n",
       "      <td>0</td>\n",
       "      <td>0</td>\n",
       "      <td>False</td>\n",
       "      <td>False</td>\n",
       "      <td>0.000000</td>\n",
       "      <td>1</td>\n",
       "    </tr>\n",
       "    <tr>\n",
       "      <th>2</th>\n",
       "      <td>gaming</td>\n",
       "      <td>Tracer Overwatch cosplay by @happyacorncosplay</td>\n",
       "      <td>i.redd.it</td>\n",
       "      <td>7</td>\n",
       "      <td>8</td>\n",
       "      <td>False</td>\n",
       "      <td>False</td>\n",
       "      <td>2.079442</td>\n",
       "      <td>1</td>\n",
       "    </tr>\n",
       "    <tr>\n",
       "      <th>3</th>\n",
       "      <td>gaming</td>\n",
       "      <td>Name this game please?!</td>\n",
       "      <td>self.gaming</td>\n",
       "      <td>3</td>\n",
       "      <td>1</td>\n",
       "      <td>False</td>\n",
       "      <td>True</td>\n",
       "      <td>0.000000</td>\n",
       "      <td>1</td>\n",
       "    </tr>\n",
       "    <tr>\n",
       "      <th>4</th>\n",
       "      <td>gaming</td>\n",
       "      <td>Call of Duty®: Infinite Warfare_20170816064211</td>\n",
       "      <td>youtube.com</td>\n",
       "      <td>0</td>\n",
       "      <td>1</td>\n",
       "      <td>False</td>\n",
       "      <td>False</td>\n",
       "      <td>0.000000</td>\n",
       "      <td>1</td>\n",
       "    </tr>\n",
       "  </tbody>\n",
       "</table>\n",
       "</div>"
      ],
      "text/plain": [
       "  subreddit                                              title       domain  \\\n",
       "0    gaming  Gorging on Insect Jelly [RimWorld] - Credit So...  youtube.com   \n",
       "1    gaming                                When you realize...  i.imgur.com   \n",
       "2    gaming     Tracer Overwatch cosplay by @happyacorncosplay    i.redd.it   \n",
       "3    gaming                            Name this game please?!  self.gaming   \n",
       "4    gaming     Call of Duty®: Infinite Warfare_20170816064211  youtube.com   \n",
       "\n",
       "   num_comments  score  over_18  is_self  ln_score  group  \n",
       "0             0     10    False    False  2.302585      1  \n",
       "1             0      0    False    False  0.000000      1  \n",
       "2             7      8    False    False  2.079442      1  \n",
       "3             3      1    False     True  0.000000      1  \n",
       "4             0      1    False    False  0.000000      1  "
      ]
     },
     "execution_count": 123,
     "metadata": {},
     "output_type": "execute_result"
    }
   ],
   "source": [
    "data = pd.merge(metadata, groups, how='inner', on=['subreddit', 'subreddit'])\n",
    "data.head()"
   ]
  },
  {
   "cell_type": "code",
   "execution_count": 139,
   "metadata": {
    "ExecuteTime": {
     "end_time": "2017-12-06T23:23:45.038343Z",
     "start_time": "2017-12-06T23:23:45.017397Z"
    }
   },
   "outputs": [
    {
     "data": {
      "text/html": [
       "<div>\n",
       "<style>\n",
       "    .dataframe thead tr:only-child th {\n",
       "        text-align: right;\n",
       "    }\n",
       "\n",
       "    .dataframe thead th {\n",
       "        text-align: left;\n",
       "    }\n",
       "\n",
       "    .dataframe tbody tr th {\n",
       "        vertical-align: top;\n",
       "    }\n",
       "</style>\n",
       "<table border=\"1\" class=\"dataframe\">\n",
       "  <thead>\n",
       "    <tr style=\"text-align: right;\">\n",
       "      <th></th>\n",
       "      <th>degree</th>\n",
       "      <th>subreddit</th>\n",
       "      <th>ln_degree</th>\n",
       "    </tr>\n",
       "  </thead>\n",
       "  <tbody>\n",
       "    <tr>\n",
       "      <th>0</th>\n",
       "      <td>10</td>\n",
       "      <td>mildlyinteresting</td>\n",
       "      <td>2.302585</td>\n",
       "    </tr>\n",
       "    <tr>\n",
       "      <th>1</th>\n",
       "      <td>12</td>\n",
       "      <td>videos</td>\n",
       "      <td>2.484907</td>\n",
       "    </tr>\n",
       "    <tr>\n",
       "      <th>2</th>\n",
       "      <td>13</td>\n",
       "      <td>todayilearned</td>\n",
       "      <td>2.564949</td>\n",
       "    </tr>\n",
       "    <tr>\n",
       "      <th>3</th>\n",
       "      <td>1</td>\n",
       "      <td>interestingasfuck</td>\n",
       "      <td>0.000000</td>\n",
       "    </tr>\n",
       "    <tr>\n",
       "      <th>4</th>\n",
       "      <td>1</td>\n",
       "      <td>Music</td>\n",
       "      <td>0.000000</td>\n",
       "    </tr>\n",
       "  </tbody>\n",
       "</table>\n",
       "</div>"
      ],
      "text/plain": [
       "   degree          subreddit  ln_degree\n",
       "0      10  mildlyinteresting   2.302585\n",
       "1      12             videos   2.484907\n",
       "2      13      todayilearned   2.564949\n",
       "3       1  interestingasfuck   0.000000\n",
       "4       1              Music   0.000000"
      ]
     },
     "execution_count": 139,
     "metadata": {},
     "output_type": "execute_result"
    }
   ],
   "source": [
    "G = nx.read_edgelist(\"edges_exp10.csv\", delimiter=\",\")\n",
    "G.remove_nodes_from([\"Source\", \"Target\"])\n",
    "\n",
    "groups_degs = pd.DataFrame.from_dict(G.degree(), 'index')\n",
    "groups_degs[\"subreddit\"] = groups_degs.index\n",
    "groups_degs.columns = ['degree', 'subreddit']\n",
    "groups_degs[\"ln_degree\"] = np.log(groups_degs[\"degree\"])\n",
    "groups_degs.reset_index(drop=True, inplace=True)\n",
    "groups_degs.head()"
   ]
  },
  {
   "cell_type": "code",
   "execution_count": 141,
   "metadata": {
    "ExecuteTime": {
     "end_time": "2017-12-06T23:24:30.867062Z",
     "start_time": "2017-12-06T23:24:29.688381Z"
    },
    "scrolled": false
   },
   "outputs": [
    {
     "data": {
      "text/html": [
       "<div>\n",
       "<style>\n",
       "    .dataframe thead tr:only-child th {\n",
       "        text-align: right;\n",
       "    }\n",
       "\n",
       "    .dataframe thead th {\n",
       "        text-align: left;\n",
       "    }\n",
       "\n",
       "    .dataframe tbody tr th {\n",
       "        vertical-align: top;\n",
       "    }\n",
       "</style>\n",
       "<table border=\"1\" class=\"dataframe\">\n",
       "  <thead>\n",
       "    <tr style=\"text-align: right;\">\n",
       "      <th></th>\n",
       "      <th>subreddit</th>\n",
       "      <th>title</th>\n",
       "      <th>domain</th>\n",
       "      <th>num_comments</th>\n",
       "      <th>score</th>\n",
       "      <th>over_18</th>\n",
       "      <th>is_self</th>\n",
       "      <th>ln_score</th>\n",
       "      <th>group</th>\n",
       "      <th>degree</th>\n",
       "      <th>ln_degree</th>\n",
       "    </tr>\n",
       "  </thead>\n",
       "  <tbody>\n",
       "    <tr>\n",
       "      <th>0</th>\n",
       "      <td>gaming</td>\n",
       "      <td>Gorging on Insect Jelly [RimWorld] - Credit So...</td>\n",
       "      <td>youtube.com</td>\n",
       "      <td>0</td>\n",
       "      <td>10</td>\n",
       "      <td>False</td>\n",
       "      <td>False</td>\n",
       "      <td>2.302585</td>\n",
       "      <td>1</td>\n",
       "      <td>12</td>\n",
       "      <td>2.484907</td>\n",
       "    </tr>\n",
       "    <tr>\n",
       "      <th>1</th>\n",
       "      <td>gaming</td>\n",
       "      <td>When you realize...</td>\n",
       "      <td>i.imgur.com</td>\n",
       "      <td>0</td>\n",
       "      <td>0</td>\n",
       "      <td>False</td>\n",
       "      <td>False</td>\n",
       "      <td>0.000000</td>\n",
       "      <td>1</td>\n",
       "      <td>12</td>\n",
       "      <td>2.484907</td>\n",
       "    </tr>\n",
       "    <tr>\n",
       "      <th>2</th>\n",
       "      <td>gaming</td>\n",
       "      <td>Tracer Overwatch cosplay by @happyacorncosplay</td>\n",
       "      <td>i.redd.it</td>\n",
       "      <td>7</td>\n",
       "      <td>8</td>\n",
       "      <td>False</td>\n",
       "      <td>False</td>\n",
       "      <td>2.079442</td>\n",
       "      <td>1</td>\n",
       "      <td>12</td>\n",
       "      <td>2.484907</td>\n",
       "    </tr>\n",
       "    <tr>\n",
       "      <th>3</th>\n",
       "      <td>gaming</td>\n",
       "      <td>Name this game please?!</td>\n",
       "      <td>self.gaming</td>\n",
       "      <td>3</td>\n",
       "      <td>1</td>\n",
       "      <td>False</td>\n",
       "      <td>True</td>\n",
       "      <td>0.000000</td>\n",
       "      <td>1</td>\n",
       "      <td>12</td>\n",
       "      <td>2.484907</td>\n",
       "    </tr>\n",
       "    <tr>\n",
       "      <th>4</th>\n",
       "      <td>gaming</td>\n",
       "      <td>Call of Duty®: Infinite Warfare_20170816064211</td>\n",
       "      <td>youtube.com</td>\n",
       "      <td>0</td>\n",
       "      <td>1</td>\n",
       "      <td>False</td>\n",
       "      <td>False</td>\n",
       "      <td>0.000000</td>\n",
       "      <td>1</td>\n",
       "      <td>12</td>\n",
       "      <td>2.484907</td>\n",
       "    </tr>\n",
       "  </tbody>\n",
       "</table>\n",
       "</div>"
      ],
      "text/plain": [
       "  subreddit                                              title       domain  \\\n",
       "0    gaming  Gorging on Insect Jelly [RimWorld] - Credit So...  youtube.com   \n",
       "1    gaming                                When you realize...  i.imgur.com   \n",
       "2    gaming     Tracer Overwatch cosplay by @happyacorncosplay    i.redd.it   \n",
       "3    gaming                            Name this game please?!  self.gaming   \n",
       "4    gaming     Call of Duty®: Infinite Warfare_20170816064211  youtube.com   \n",
       "\n",
       "   num_comments  score  over_18  is_self  ln_score  group  degree  ln_degree  \n",
       "0             0     10    False    False  2.302585      1      12   2.484907  \n",
       "1             0      0    False    False  0.000000      1      12   2.484907  \n",
       "2             7      8    False    False  2.079442      1      12   2.484907  \n",
       "3             3      1    False     True  0.000000      1      12   2.484907  \n",
       "4             0      1    False    False  0.000000      1      12   2.484907  "
      ]
     },
     "execution_count": 141,
     "metadata": {},
     "output_type": "execute_result"
    }
   ],
   "source": [
    "data = pd.merge(data, groups_degs, how='inner', on=['subreddit', 'subreddit'])\n",
    "data.head()"
   ]
  },
  {
   "cell_type": "code",
   "execution_count": 142,
   "metadata": {
    "ExecuteTime": {
     "end_time": "2017-12-06T23:24:52.604895Z",
     "start_time": "2017-12-06T23:24:48.781851Z"
    },
    "collapsed": true
   },
   "outputs": [],
   "source": [
    "data.to_csv(\"/Users/anders1991/Desktop/reddit/metadata.csv\", index=False)"
   ]
  },
  {
   "cell_type": "markdown",
   "metadata": {},
   "source": [
    "----"
   ]
  },
  {
   "cell_type": "code",
   "execution_count": 143,
   "metadata": {
    "ExecuteTime": {
     "end_time": "2017-12-06T23:25:01.393462Z",
     "start_time": "2017-12-06T23:25:01.304652Z"
    }
   },
   "outputs": [
    {
     "data": {
      "text/html": [
       "<div>\n",
       "<style>\n",
       "    .dataframe thead tr:only-child th {\n",
       "        text-align: right;\n",
       "    }\n",
       "\n",
       "    .dataframe thead th {\n",
       "        text-align: left;\n",
       "    }\n",
       "\n",
       "    .dataframe tbody tr th {\n",
       "        vertical-align: top;\n",
       "    }\n",
       "</style>\n",
       "<table border=\"1\" class=\"dataframe\">\n",
       "  <thead>\n",
       "    <tr style=\"text-align: right;\">\n",
       "      <th></th>\n",
       "      <th>subreddit</th>\n",
       "      <th>group</th>\n",
       "      <th>over_18</th>\n",
       "      <th>degree</th>\n",
       "      <th>ln_degree</th>\n",
       "      <th>is_self</th>\n",
       "    </tr>\n",
       "  </thead>\n",
       "  <tbody>\n",
       "    <tr>\n",
       "      <th>0</th>\n",
       "      <td>gaming</td>\n",
       "      <td>1</td>\n",
       "      <td>False</td>\n",
       "      <td>12</td>\n",
       "      <td>2.484907</td>\n",
       "      <td>False</td>\n",
       "    </tr>\n",
       "    <tr>\n",
       "      <th>1</th>\n",
       "      <td>gaming</td>\n",
       "      <td>1</td>\n",
       "      <td>False</td>\n",
       "      <td>12</td>\n",
       "      <td>2.484907</td>\n",
       "      <td>False</td>\n",
       "    </tr>\n",
       "    <tr>\n",
       "      <th>2</th>\n",
       "      <td>gaming</td>\n",
       "      <td>1</td>\n",
       "      <td>False</td>\n",
       "      <td>12</td>\n",
       "      <td>2.484907</td>\n",
       "      <td>False</td>\n",
       "    </tr>\n",
       "    <tr>\n",
       "      <th>3</th>\n",
       "      <td>gaming</td>\n",
       "      <td>1</td>\n",
       "      <td>False</td>\n",
       "      <td>12</td>\n",
       "      <td>2.484907</td>\n",
       "      <td>True</td>\n",
       "    </tr>\n",
       "    <tr>\n",
       "      <th>4</th>\n",
       "      <td>gaming</td>\n",
       "      <td>1</td>\n",
       "      <td>False</td>\n",
       "      <td>12</td>\n",
       "      <td>2.484907</td>\n",
       "      <td>False</td>\n",
       "    </tr>\n",
       "  </tbody>\n",
       "</table>\n",
       "</div>"
      ],
      "text/plain": [
       "  subreddit  group  over_18  degree  ln_degree  is_self\n",
       "0    gaming      1    False      12   2.484907    False\n",
       "1    gaming      1    False      12   2.484907    False\n",
       "2    gaming      1    False      12   2.484907    False\n",
       "3    gaming      1    False      12   2.484907     True\n",
       "4    gaming      1    False      12   2.484907    False"
      ]
     },
     "execution_count": 143,
     "metadata": {},
     "output_type": "execute_result"
    }
   ],
   "source": [
    "nodedata = data[[\"subreddit\", \"group\", \"over_18\", \"degree\", \"ln_degree\", \"is_self\"]]\n",
    "nodedata.head()"
   ]
  },
  {
   "cell_type": "code",
   "execution_count": 144,
   "metadata": {
    "ExecuteTime": {
     "end_time": "2017-12-06T23:25:08.716922Z",
     "start_time": "2017-12-06T23:25:08.638687Z"
    },
    "scrolled": false
   },
   "outputs": [
    {
     "data": {
      "text/html": [
       "<div>\n",
       "<style>\n",
       "    .dataframe thead tr:only-child th {\n",
       "        text-align: right;\n",
       "    }\n",
       "\n",
       "    .dataframe thead th {\n",
       "        text-align: left;\n",
       "    }\n",
       "\n",
       "    .dataframe tbody tr th {\n",
       "        vertical-align: top;\n",
       "    }\n",
       "</style>\n",
       "<table border=\"1\" class=\"dataframe\">\n",
       "  <thead>\n",
       "    <tr style=\"text-align: right;\">\n",
       "      <th></th>\n",
       "      <th>group</th>\n",
       "      <th>degree</th>\n",
       "      <th>ln_degree</th>\n",
       "    </tr>\n",
       "    <tr>\n",
       "      <th>subreddit</th>\n",
       "      <th></th>\n",
       "      <th></th>\n",
       "      <th></th>\n",
       "    </tr>\n",
       "  </thead>\n",
       "  <tbody>\n",
       "    <tr>\n",
       "      <th>AdviceAnimals</th>\n",
       "      <td>1</td>\n",
       "      <td>1</td>\n",
       "      <td>0.000000</td>\n",
       "    </tr>\n",
       "    <tr>\n",
       "      <th>AskReddit</th>\n",
       "      <td>1</td>\n",
       "      <td>27</td>\n",
       "      <td>3.295837</td>\n",
       "    </tr>\n",
       "    <tr>\n",
       "      <th>BlackPeopleTwitter</th>\n",
       "      <td>1</td>\n",
       "      <td>1</td>\n",
       "      <td>0.000000</td>\n",
       "    </tr>\n",
       "    <tr>\n",
       "      <th>IAmA</th>\n",
       "      <td>1</td>\n",
       "      <td>1</td>\n",
       "      <td>0.000000</td>\n",
       "    </tr>\n",
       "    <tr>\n",
       "      <th>Jokes</th>\n",
       "      <td>2</td>\n",
       "      <td>1</td>\n",
       "      <td>0.000000</td>\n",
       "    </tr>\n",
       "  </tbody>\n",
       "</table>\n",
       "</div>"
      ],
      "text/plain": [
       "                    group  degree  ln_degree\n",
       "subreddit                                   \n",
       "AdviceAnimals           1       1   0.000000\n",
       "AskReddit               1      27   3.295837\n",
       "BlackPeopleTwitter      1       1   0.000000\n",
       "IAmA                    1       1   0.000000\n",
       "Jokes                   2       1   0.000000"
      ]
     },
     "execution_count": 144,
     "metadata": {},
     "output_type": "execute_result"
    }
   ],
   "source": [
    "nodedata_a = nodedata.groupby([\"subreddit\"])[[\"group\", \"degree\", \"ln_degree\"]].first()\n",
    "nodedata_a.head()"
   ]
  },
  {
   "cell_type": "code",
   "execution_count": 145,
   "metadata": {
    "ExecuteTime": {
     "end_time": "2017-12-06T23:25:17.953807Z",
     "start_time": "2017-12-06T23:25:17.892299Z"
    }
   },
   "outputs": [
    {
     "data": {
      "text/html": [
       "<div>\n",
       "<style>\n",
       "    .dataframe thead tr:only-child th {\n",
       "        text-align: right;\n",
       "    }\n",
       "\n",
       "    .dataframe thead th {\n",
       "        text-align: left;\n",
       "    }\n",
       "\n",
       "    .dataframe tbody tr th {\n",
       "        vertical-align: top;\n",
       "    }\n",
       "</style>\n",
       "<table border=\"1\" class=\"dataframe\">\n",
       "  <thead>\n",
       "    <tr style=\"text-align: right;\">\n",
       "      <th></th>\n",
       "      <th>over_18</th>\n",
       "      <th>is_self</th>\n",
       "    </tr>\n",
       "    <tr>\n",
       "      <th>subreddit</th>\n",
       "      <th></th>\n",
       "      <th></th>\n",
       "    </tr>\n",
       "  </thead>\n",
       "  <tbody>\n",
       "    <tr>\n",
       "      <th>AdviceAnimals</th>\n",
       "      <td>0.001728</td>\n",
       "      <td>0.000000</td>\n",
       "    </tr>\n",
       "    <tr>\n",
       "      <th>AskReddit</th>\n",
       "      <td>0.027769</td>\n",
       "      <td>1.000000</td>\n",
       "    </tr>\n",
       "    <tr>\n",
       "      <th>BlackPeopleTwitter</th>\n",
       "      <td>0.011442</td>\n",
       "      <td>0.002034</td>\n",
       "    </tr>\n",
       "    <tr>\n",
       "      <th>IAmA</th>\n",
       "      <td>0.007563</td>\n",
       "      <td>1.000000</td>\n",
       "    </tr>\n",
       "    <tr>\n",
       "      <th>Jokes</th>\n",
       "      <td>0.044767</td>\n",
       "      <td>1.000000</td>\n",
       "    </tr>\n",
       "  </tbody>\n",
       "</table>\n",
       "</div>"
      ],
      "text/plain": [
       "                     over_18   is_self\n",
       "subreddit                             \n",
       "AdviceAnimals       0.001728  0.000000\n",
       "AskReddit           0.027769  1.000000\n",
       "BlackPeopleTwitter  0.011442  0.002034\n",
       "IAmA                0.007563  1.000000\n",
       "Jokes               0.044767  1.000000"
      ]
     },
     "execution_count": 145,
     "metadata": {},
     "output_type": "execute_result"
    }
   ],
   "source": [
    "nodedata_b = nodedata.groupby([\"subreddit\"])[[\"over_18\", \"is_self\"]].mean()\n",
    "nodedata_b.head()"
   ]
  },
  {
   "cell_type": "code",
   "execution_count": 146,
   "metadata": {
    "ExecuteTime": {
     "end_time": "2017-12-06T23:25:21.035156Z",
     "start_time": "2017-12-06T23:25:20.956500Z"
    }
   },
   "outputs": [
    {
     "data": {
      "text/html": [
       "<div>\n",
       "<style>\n",
       "    .dataframe thead tr:only-child th {\n",
       "        text-align: right;\n",
       "    }\n",
       "\n",
       "    .dataframe thead th {\n",
       "        text-align: left;\n",
       "    }\n",
       "\n",
       "    .dataframe tbody tr th {\n",
       "        vertical-align: top;\n",
       "    }\n",
       "</style>\n",
       "<table border=\"1\" class=\"dataframe\">\n",
       "  <thead>\n",
       "    <tr style=\"text-align: right;\">\n",
       "      <th></th>\n",
       "      <th>num_posts</th>\n",
       "      <th>ln_num_posts</th>\n",
       "    </tr>\n",
       "    <tr>\n",
       "      <th>subreddit</th>\n",
       "      <th></th>\n",
       "      <th></th>\n",
       "    </tr>\n",
       "  </thead>\n",
       "  <tbody>\n",
       "    <tr>\n",
       "      <th>AdviceAnimals</th>\n",
       "      <td>6944</td>\n",
       "      <td>8.845633</td>\n",
       "    </tr>\n",
       "    <tr>\n",
       "      <th>AskReddit</th>\n",
       "      <td>215854</td>\n",
       "      <td>12.282358</td>\n",
       "    </tr>\n",
       "    <tr>\n",
       "      <th>BlackPeopleTwitter</th>\n",
       "      <td>3933</td>\n",
       "      <td>8.277158</td>\n",
       "    </tr>\n",
       "    <tr>\n",
       "      <th>IAmA</th>\n",
       "      <td>1719</td>\n",
       "      <td>7.449498</td>\n",
       "    </tr>\n",
       "    <tr>\n",
       "      <th>Jokes</th>\n",
       "      <td>18697</td>\n",
       "      <td>9.836118</td>\n",
       "    </tr>\n",
       "  </tbody>\n",
       "</table>\n",
       "</div>"
      ],
      "text/plain": [
       "                    num_posts  ln_num_posts\n",
       "subreddit                                  \n",
       "AdviceAnimals            6944      8.845633\n",
       "AskReddit              215854     12.282358\n",
       "BlackPeopleTwitter       3933      8.277158\n",
       "IAmA                     1719      7.449498\n",
       "Jokes                   18697      9.836118"
      ]
     },
     "execution_count": 146,
     "metadata": {},
     "output_type": "execute_result"
    }
   ],
   "source": [
    "nodedata_c = nodedata.groupby([\"subreddit\"])[\"subreddit\"].count()\n",
    "nodedata_c = nodedata_c.to_frame()\n",
    "nodedata_c.columns = ['num_posts']\n",
    "nodedata_c[\"ln_num_posts\"] = np.log(nodedata_c[\"num_posts\"])\n",
    "nodedata_c.head()"
   ]
  },
  {
   "cell_type": "code",
   "execution_count": null,
   "metadata": {
    "collapsed": true
   },
   "outputs": [],
   "source": [
    "nodedata = pd.merge(nodedata_a, nodedata_b, how='inner', left_index=True, right_index=True)\n",
    "nodedata = pd.merge(nodedata, nodedata_c, how='inner', left_index=True, right_index=True)\n",
    "nodedata.head()"
   ]
  },
  {
   "cell_type": "code",
   "execution_count": 148,
   "metadata": {
    "ExecuteTime": {
     "end_time": "2017-12-06T23:26:22.426704Z",
     "start_time": "2017-12-06T23:26:22.422257Z"
    },
    "collapsed": true
   },
   "outputs": [],
   "source": [
    "nodedata.to_csv(\"/Users/anders1991/Desktop/reddit/nodes_data.csv\")"
   ]
  }
 ],
 "metadata": {
  "kernelspec": {
   "display_name": "Python [conda env:py2]",
   "language": "python",
   "name": "conda-env-py2-py"
  },
  "language_info": {
   "codemirror_mode": {
    "name": "ipython",
    "version": 2
   },
   "file_extension": ".py",
   "mimetype": "text/x-python",
   "name": "python",
   "nbconvert_exporter": "python",
   "pygments_lexer": "ipython2",
   "version": "2.7.13"
  }
 },
 "nbformat": 4,
 "nbformat_minor": 2
}
